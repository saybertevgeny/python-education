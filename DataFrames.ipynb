{
 "cells": [
  {
   "cell_type": "code",
   "execution_count": 1,
   "metadata": {},
   "outputs": [],
   "source": [
    "import numpy as np\n",
    "import pandas as pd"
   ]
  },
  {
   "cell_type": "code",
   "execution_count": 4,
   "metadata": {},
   "outputs": [],
   "source": [
    "my_df = pd.DataFrame(np.random.randn(4,5),[1,2,3,4],['red','orange','yellow','green','blue'])"
   ]
  },
  {
   "cell_type": "code",
   "execution_count": 5,
   "metadata": {},
   "outputs": [
    {
     "data": {
      "text/html": [
       "<div>\n",
       "<style scoped>\n",
       "    .dataframe tbody tr th:only-of-type {\n",
       "        vertical-align: middle;\n",
       "    }\n",
       "\n",
       "    .dataframe tbody tr th {\n",
       "        vertical-align: top;\n",
       "    }\n",
       "\n",
       "    .dataframe thead th {\n",
       "        text-align: right;\n",
       "    }\n",
       "</style>\n",
       "<table border=\"1\" class=\"dataframe\">\n",
       "  <thead>\n",
       "    <tr style=\"text-align: right;\">\n",
       "      <th></th>\n",
       "      <th>red</th>\n",
       "      <th>orange</th>\n",
       "      <th>yellow</th>\n",
       "      <th>green</th>\n",
       "      <th>blue</th>\n",
       "    </tr>\n",
       "  </thead>\n",
       "  <tbody>\n",
       "    <tr>\n",
       "      <th>1</th>\n",
       "      <td>-0.135806</td>\n",
       "      <td>0.226589</td>\n",
       "      <td>-0.274963</td>\n",
       "      <td>0.243196</td>\n",
       "      <td>-1.489461</td>\n",
       "    </tr>\n",
       "    <tr>\n",
       "      <th>2</th>\n",
       "      <td>0.332181</td>\n",
       "      <td>-1.434841</td>\n",
       "      <td>-1.714449</td>\n",
       "      <td>1.832492</td>\n",
       "      <td>0.012610</td>\n",
       "    </tr>\n",
       "    <tr>\n",
       "      <th>3</th>\n",
       "      <td>0.064680</td>\n",
       "      <td>-0.038814</td>\n",
       "      <td>0.412432</td>\n",
       "      <td>2.138313</td>\n",
       "      <td>0.237872</td>\n",
       "    </tr>\n",
       "    <tr>\n",
       "      <th>4</th>\n",
       "      <td>1.327183</td>\n",
       "      <td>0.844997</td>\n",
       "      <td>-0.450377</td>\n",
       "      <td>0.549965</td>\n",
       "      <td>0.600588</td>\n",
       "    </tr>\n",
       "  </tbody>\n",
       "</table>\n",
       "</div>"
      ],
      "text/plain": [
       "        red    orange    yellow     green      blue\n",
       "1 -0.135806  0.226589 -0.274963  0.243196 -1.489461\n",
       "2  0.332181 -1.434841 -1.714449  1.832492  0.012610\n",
       "3  0.064680 -0.038814  0.412432  2.138313  0.237872\n",
       "4  1.327183  0.844997 -0.450377  0.549965  0.600588"
      ]
     },
     "execution_count": 5,
     "metadata": {},
     "output_type": "execute_result"
    }
   ],
   "source": [
    "my_df"
   ]
  },
  {
   "cell_type": "code",
   "execution_count": 7,
   "metadata": {},
   "outputs": [
    {
     "data": {
      "text/plain": [
       "1    0.226589\n",
       "2   -1.434841\n",
       "3   -0.038814\n",
       "4    0.844997\n",
       "Name: orange, dtype: float64"
      ]
     },
     "execution_count": 7,
     "metadata": {},
     "output_type": "execute_result"
    }
   ],
   "source": [
    "my_df['orange'] # индексы строк из таблицы выше"
   ]
  },
  {
   "cell_type": "code",
   "execution_count": 9,
   "metadata": {},
   "outputs": [
    {
     "data": {
      "text/plain": [
       "pandas.core.series.Series"
      ]
     },
     "execution_count": 9,
     "metadata": {},
     "output_type": "execute_result"
    }
   ],
   "source": [
    "type(my_df['orange'])"
   ]
  },
  {
   "cell_type": "code",
   "execution_count": 10,
   "metadata": {},
   "outputs": [
    {
     "data": {
      "text/plain": [
       "pandas.core.frame.DataFrame"
      ]
     },
     "execution_count": 10,
     "metadata": {},
     "output_type": "execute_result"
    }
   ],
   "source": [
    "type(my_df)"
   ]
  },
  {
   "cell_type": "code",
   "execution_count": 11,
   "metadata": {},
   "outputs": [
    {
     "data": {
      "text/html": [
       "<div>\n",
       "<style scoped>\n",
       "    .dataframe tbody tr th:only-of-type {\n",
       "        vertical-align: middle;\n",
       "    }\n",
       "\n",
       "    .dataframe tbody tr th {\n",
       "        vertical-align: top;\n",
       "    }\n",
       "\n",
       "    .dataframe thead th {\n",
       "        text-align: right;\n",
       "    }\n",
       "</style>\n",
       "<table border=\"1\" class=\"dataframe\">\n",
       "  <thead>\n",
       "    <tr style=\"text-align: right;\">\n",
       "      <th></th>\n",
       "      <th>yellow</th>\n",
       "      <th>blue</th>\n",
       "    </tr>\n",
       "  </thead>\n",
       "  <tbody>\n",
       "    <tr>\n",
       "      <th>1</th>\n",
       "      <td>-0.274963</td>\n",
       "      <td>-1.489461</td>\n",
       "    </tr>\n",
       "    <tr>\n",
       "      <th>2</th>\n",
       "      <td>-1.714449</td>\n",
       "      <td>0.012610</td>\n",
       "    </tr>\n",
       "    <tr>\n",
       "      <th>3</th>\n",
       "      <td>0.412432</td>\n",
       "      <td>0.237872</td>\n",
       "    </tr>\n",
       "    <tr>\n",
       "      <th>4</th>\n",
       "      <td>-0.450377</td>\n",
       "      <td>0.600588</td>\n",
       "    </tr>\n",
       "  </tbody>\n",
       "</table>\n",
       "</div>"
      ],
      "text/plain": [
       "     yellow      blue\n",
       "1 -0.274963 -1.489461\n",
       "2 -1.714449  0.012610\n",
       "3  0.412432  0.237872\n",
       "4 -0.450377  0.600588"
      ]
     },
     "execution_count": 11,
     "metadata": {},
     "output_type": "execute_result"
    }
   ],
   "source": [
    "my_df[['yellow','blue']]"
   ]
  },
  {
   "cell_type": "code",
   "execution_count": 12,
   "metadata": {},
   "outputs": [
    {
     "data": {
      "text/plain": [
       "pandas.core.frame.DataFrame"
      ]
     },
     "execution_count": 12,
     "metadata": {},
     "output_type": "execute_result"
    }
   ],
   "source": [
    "type(my_df[['yellow','blue']])"
   ]
  },
  {
   "cell_type": "code",
   "execution_count": 13,
   "metadata": {},
   "outputs": [],
   "source": [
    "my_df['indigo'] = my_df['blue']"
   ]
  },
  {
   "cell_type": "code",
   "execution_count": 14,
   "metadata": {},
   "outputs": [
    {
     "data": {
      "text/html": [
       "<div>\n",
       "<style scoped>\n",
       "    .dataframe tbody tr th:only-of-type {\n",
       "        vertical-align: middle;\n",
       "    }\n",
       "\n",
       "    .dataframe tbody tr th {\n",
       "        vertical-align: top;\n",
       "    }\n",
       "\n",
       "    .dataframe thead th {\n",
       "        text-align: right;\n",
       "    }\n",
       "</style>\n",
       "<table border=\"1\" class=\"dataframe\">\n",
       "  <thead>\n",
       "    <tr style=\"text-align: right;\">\n",
       "      <th></th>\n",
       "      <th>red</th>\n",
       "      <th>orange</th>\n",
       "      <th>yellow</th>\n",
       "      <th>green</th>\n",
       "      <th>blue</th>\n",
       "      <th>indigo</th>\n",
       "    </tr>\n",
       "  </thead>\n",
       "  <tbody>\n",
       "    <tr>\n",
       "      <th>1</th>\n",
       "      <td>-0.135806</td>\n",
       "      <td>0.226589</td>\n",
       "      <td>-0.274963</td>\n",
       "      <td>0.243196</td>\n",
       "      <td>-1.489461</td>\n",
       "      <td>-1.489461</td>\n",
       "    </tr>\n",
       "    <tr>\n",
       "      <th>2</th>\n",
       "      <td>0.332181</td>\n",
       "      <td>-1.434841</td>\n",
       "      <td>-1.714449</td>\n",
       "      <td>1.832492</td>\n",
       "      <td>0.012610</td>\n",
       "      <td>0.012610</td>\n",
       "    </tr>\n",
       "    <tr>\n",
       "      <th>3</th>\n",
       "      <td>0.064680</td>\n",
       "      <td>-0.038814</td>\n",
       "      <td>0.412432</td>\n",
       "      <td>2.138313</td>\n",
       "      <td>0.237872</td>\n",
       "      <td>0.237872</td>\n",
       "    </tr>\n",
       "    <tr>\n",
       "      <th>4</th>\n",
       "      <td>1.327183</td>\n",
       "      <td>0.844997</td>\n",
       "      <td>-0.450377</td>\n",
       "      <td>0.549965</td>\n",
       "      <td>0.600588</td>\n",
       "      <td>0.600588</td>\n",
       "    </tr>\n",
       "  </tbody>\n",
       "</table>\n",
       "</div>"
      ],
      "text/plain": [
       "        red    orange    yellow     green      blue    indigo\n",
       "1 -0.135806  0.226589 -0.274963  0.243196 -1.489461 -1.489461\n",
       "2  0.332181 -1.434841 -1.714449  1.832492  0.012610  0.012610\n",
       "3  0.064680 -0.038814  0.412432  2.138313  0.237872  0.237872\n",
       "4  1.327183  0.844997 -0.450377  0.549965  0.600588  0.600588"
      ]
     },
     "execution_count": 14,
     "metadata": {},
     "output_type": "execute_result"
    }
   ],
   "source": [
    "my_df"
   ]
  },
  {
   "cell_type": "code",
   "execution_count": 15,
   "metadata": {},
   "outputs": [],
   "source": [
    "my_df['violet'] = my_df['blue'] + my_df['indigo']"
   ]
  },
  {
   "cell_type": "code",
   "execution_count": 16,
   "metadata": {},
   "outputs": [
    {
     "data": {
      "text/html": [
       "<div>\n",
       "<style scoped>\n",
       "    .dataframe tbody tr th:only-of-type {\n",
       "        vertical-align: middle;\n",
       "    }\n",
       "\n",
       "    .dataframe tbody tr th {\n",
       "        vertical-align: top;\n",
       "    }\n",
       "\n",
       "    .dataframe thead th {\n",
       "        text-align: right;\n",
       "    }\n",
       "</style>\n",
       "<table border=\"1\" class=\"dataframe\">\n",
       "  <thead>\n",
       "    <tr style=\"text-align: right;\">\n",
       "      <th></th>\n",
       "      <th>red</th>\n",
       "      <th>orange</th>\n",
       "      <th>yellow</th>\n",
       "      <th>green</th>\n",
       "      <th>blue</th>\n",
       "      <th>indigo</th>\n",
       "      <th>violet</th>\n",
       "    </tr>\n",
       "  </thead>\n",
       "  <tbody>\n",
       "    <tr>\n",
       "      <th>1</th>\n",
       "      <td>-0.135806</td>\n",
       "      <td>0.226589</td>\n",
       "      <td>-0.274963</td>\n",
       "      <td>0.243196</td>\n",
       "      <td>-1.489461</td>\n",
       "      <td>-1.489461</td>\n",
       "      <td>-2.978922</td>\n",
       "    </tr>\n",
       "    <tr>\n",
       "      <th>2</th>\n",
       "      <td>0.332181</td>\n",
       "      <td>-1.434841</td>\n",
       "      <td>-1.714449</td>\n",
       "      <td>1.832492</td>\n",
       "      <td>0.012610</td>\n",
       "      <td>0.012610</td>\n",
       "      <td>0.025220</td>\n",
       "    </tr>\n",
       "    <tr>\n",
       "      <th>3</th>\n",
       "      <td>0.064680</td>\n",
       "      <td>-0.038814</td>\n",
       "      <td>0.412432</td>\n",
       "      <td>2.138313</td>\n",
       "      <td>0.237872</td>\n",
       "      <td>0.237872</td>\n",
       "      <td>0.475744</td>\n",
       "    </tr>\n",
       "    <tr>\n",
       "      <th>4</th>\n",
       "      <td>1.327183</td>\n",
       "      <td>0.844997</td>\n",
       "      <td>-0.450377</td>\n",
       "      <td>0.549965</td>\n",
       "      <td>0.600588</td>\n",
       "      <td>0.600588</td>\n",
       "      <td>1.201175</td>\n",
       "    </tr>\n",
       "  </tbody>\n",
       "</table>\n",
       "</div>"
      ],
      "text/plain": [
       "        red    orange    yellow     green      blue    indigo    violet\n",
       "1 -0.135806  0.226589 -0.274963  0.243196 -1.489461 -1.489461 -2.978922\n",
       "2  0.332181 -1.434841 -1.714449  1.832492  0.012610  0.012610  0.025220\n",
       "3  0.064680 -0.038814  0.412432  2.138313  0.237872  0.237872  0.475744\n",
       "4  1.327183  0.844997 -0.450377  0.549965  0.600588  0.600588  1.201175"
      ]
     },
     "execution_count": 16,
     "metadata": {},
     "output_type": "execute_result"
    }
   ],
   "source": [
    "my_df"
   ]
  },
  {
   "cell_type": "code",
   "execution_count": 17,
   "metadata": {},
   "outputs": [
    {
     "data": {
      "text/plain": [
       "red      -0.135806\n",
       "orange    0.226589\n",
       "yellow   -0.274963\n",
       "green     0.243196\n",
       "blue     -1.489461\n",
       "indigo   -1.489461\n",
       "violet   -2.978922\n",
       "Name: 1, dtype: float64"
      ]
     },
     "execution_count": 17,
     "metadata": {},
     "output_type": "execute_result"
    }
   ],
   "source": [
    "my_df.loc[1]  # получение строк таблицы выше"
   ]
  },
  {
   "cell_type": "code",
   "execution_count": 18,
   "metadata": {},
   "outputs": [
    {
     "data": {
      "text/plain": [
       "red      -0.135806\n",
       "orange    0.226589\n",
       "yellow   -0.274963\n",
       "green     0.243196\n",
       "blue     -1.489461\n",
       "indigo   -1.489461\n",
       "violet   -2.978922\n",
       "Name: 1, dtype: float64"
      ]
     },
     "execution_count": 18,
     "metadata": {},
     "output_type": "execute_result"
    }
   ],
   "source": [
    "my_df.iloc[0] # iloc с нуля начинает считать"
   ]
  },
  {
   "cell_type": "code",
   "execution_count": 21,
   "metadata": {},
   "outputs": [],
   "source": [
    "my_df.iloc[1] = my_df.loc[1]"
   ]
  },
  {
   "cell_type": "code",
   "execution_count": 22,
   "metadata": {},
   "outputs": [
    {
     "data": {
      "text/html": [
       "<div>\n",
       "<style scoped>\n",
       "    .dataframe tbody tr th:only-of-type {\n",
       "        vertical-align: middle;\n",
       "    }\n",
       "\n",
       "    .dataframe tbody tr th {\n",
       "        vertical-align: top;\n",
       "    }\n",
       "\n",
       "    .dataframe thead th {\n",
       "        text-align: right;\n",
       "    }\n",
       "</style>\n",
       "<table border=\"1\" class=\"dataframe\">\n",
       "  <thead>\n",
       "    <tr style=\"text-align: right;\">\n",
       "      <th></th>\n",
       "      <th>red</th>\n",
       "      <th>orange</th>\n",
       "      <th>yellow</th>\n",
       "      <th>green</th>\n",
       "      <th>blue</th>\n",
       "      <th>indigo</th>\n",
       "      <th>violet</th>\n",
       "    </tr>\n",
       "  </thead>\n",
       "  <tbody>\n",
       "    <tr>\n",
       "      <th>1</th>\n",
       "      <td>-0.135806</td>\n",
       "      <td>0.226589</td>\n",
       "      <td>-0.274963</td>\n",
       "      <td>0.243196</td>\n",
       "      <td>-1.489461</td>\n",
       "      <td>-1.489461</td>\n",
       "      <td>-2.978922</td>\n",
       "    </tr>\n",
       "    <tr>\n",
       "      <th>2</th>\n",
       "      <td>-0.135806</td>\n",
       "      <td>0.226589</td>\n",
       "      <td>-0.274963</td>\n",
       "      <td>0.243196</td>\n",
       "      <td>-1.489461</td>\n",
       "      <td>-1.489461</td>\n",
       "      <td>-2.978922</td>\n",
       "    </tr>\n",
       "    <tr>\n",
       "      <th>3</th>\n",
       "      <td>0.064680</td>\n",
       "      <td>-0.038814</td>\n",
       "      <td>0.412432</td>\n",
       "      <td>2.138313</td>\n",
       "      <td>0.237872</td>\n",
       "      <td>0.237872</td>\n",
       "      <td>0.475744</td>\n",
       "    </tr>\n",
       "    <tr>\n",
       "      <th>4</th>\n",
       "      <td>1.327183</td>\n",
       "      <td>0.844997</td>\n",
       "      <td>-0.450377</td>\n",
       "      <td>0.549965</td>\n",
       "      <td>0.600588</td>\n",
       "      <td>0.600588</td>\n",
       "      <td>1.201175</td>\n",
       "    </tr>\n",
       "  </tbody>\n",
       "</table>\n",
       "</div>"
      ],
      "text/plain": [
       "        red    orange    yellow     green      blue    indigo    violet\n",
       "1 -0.135806  0.226589 -0.274963  0.243196 -1.489461 -1.489461 -2.978922\n",
       "2 -0.135806  0.226589 -0.274963  0.243196 -1.489461 -1.489461 -2.978922\n",
       "3  0.064680 -0.038814  0.412432  2.138313  0.237872  0.237872  0.475744\n",
       "4  1.327183  0.844997 -0.450377  0.549965  0.600588  0.600588  1.201175"
      ]
     },
     "execution_count": 22,
     "metadata": {},
     "output_type": "execute_result"
    }
   ],
   "source": [
    "my_df"
   ]
  },
  {
   "cell_type": "code",
   "execution_count": 25,
   "metadata": {},
   "outputs": [
    {
     "data": {
      "text/plain": [
       "-0.03881413045017116"
      ]
     },
     "execution_count": 25,
     "metadata": {},
     "output_type": "execute_result"
    }
   ],
   "source": [
    "my_df['orange'][3]"
   ]
  },
  {
   "cell_type": "code",
   "execution_count": 29,
   "metadata": {},
   "outputs": [
    {
     "data": {
      "text/html": [
       "<div>\n",
       "<style scoped>\n",
       "    .dataframe tbody tr th:only-of-type {\n",
       "        vertical-align: middle;\n",
       "    }\n",
       "\n",
       "    .dataframe tbody tr th {\n",
       "        vertical-align: top;\n",
       "    }\n",
       "\n",
       "    .dataframe thead th {\n",
       "        text-align: right;\n",
       "    }\n",
       "</style>\n",
       "<table border=\"1\" class=\"dataframe\">\n",
       "  <thead>\n",
       "    <tr style=\"text-align: right;\">\n",
       "      <th></th>\n",
       "      <th>blue</th>\n",
       "      <th>indigo</th>\n",
       "    </tr>\n",
       "  </thead>\n",
       "  <tbody>\n",
       "    <tr>\n",
       "      <th>1</th>\n",
       "      <td>-1.489461</td>\n",
       "      <td>-1.489461</td>\n",
       "    </tr>\n",
       "    <tr>\n",
       "      <th>3</th>\n",
       "      <td>0.237872</td>\n",
       "      <td>0.237872</td>\n",
       "    </tr>\n",
       "  </tbody>\n",
       "</table>\n",
       "</div>"
      ],
      "text/plain": [
       "       blue    indigo\n",
       "1 -1.489461 -1.489461\n",
       "3  0.237872  0.237872"
      ]
     },
     "execution_count": 29,
     "metadata": {},
     "output_type": "execute_result"
    }
   ],
   "source": [
    "my_df.loc[[1,3],['blue','indigo']]"
   ]
  },
  {
   "cell_type": "code",
   "execution_count": 30,
   "metadata": {},
   "outputs": [
    {
     "data": {
      "text/html": [
       "<div>\n",
       "<style scoped>\n",
       "    .dataframe tbody tr th:only-of-type {\n",
       "        vertical-align: middle;\n",
       "    }\n",
       "\n",
       "    .dataframe tbody tr th {\n",
       "        vertical-align: top;\n",
       "    }\n",
       "\n",
       "    .dataframe thead th {\n",
       "        text-align: right;\n",
       "    }\n",
       "</style>\n",
       "<table border=\"1\" class=\"dataframe\">\n",
       "  <thead>\n",
       "    <tr style=\"text-align: right;\">\n",
       "      <th></th>\n",
       "      <th>red</th>\n",
       "      <th>orange</th>\n",
       "      <th>yellow</th>\n",
       "      <th>green</th>\n",
       "      <th>blue</th>\n",
       "      <th>indigo</th>\n",
       "      <th>violet</th>\n",
       "    </tr>\n",
       "  </thead>\n",
       "  <tbody>\n",
       "    <tr>\n",
       "      <th>1</th>\n",
       "      <td>-0.135806</td>\n",
       "      <td>0.226589</td>\n",
       "      <td>-0.274963</td>\n",
       "      <td>0.243196</td>\n",
       "      <td>-1.489461</td>\n",
       "      <td>-1.489461</td>\n",
       "      <td>-2.978922</td>\n",
       "    </tr>\n",
       "    <tr>\n",
       "      <th>2</th>\n",
       "      <td>-0.135806</td>\n",
       "      <td>0.226589</td>\n",
       "      <td>-0.274963</td>\n",
       "      <td>0.243196</td>\n",
       "      <td>-1.489461</td>\n",
       "      <td>-1.489461</td>\n",
       "      <td>-2.978922</td>\n",
       "    </tr>\n",
       "    <tr>\n",
       "      <th>4</th>\n",
       "      <td>1.327183</td>\n",
       "      <td>0.844997</td>\n",
       "      <td>-0.450377</td>\n",
       "      <td>0.549965</td>\n",
       "      <td>0.600588</td>\n",
       "      <td>0.600588</td>\n",
       "      <td>1.201175</td>\n",
       "    </tr>\n",
       "  </tbody>\n",
       "</table>\n",
       "</div>"
      ],
      "text/plain": [
       "        red    orange    yellow     green      blue    indigo    violet\n",
       "1 -0.135806  0.226589 -0.274963  0.243196 -1.489461 -1.489461 -2.978922\n",
       "2 -0.135806  0.226589 -0.274963  0.243196 -1.489461 -1.489461 -2.978922\n",
       "4  1.327183  0.844997 -0.450377  0.549965  0.600588  0.600588  1.201175"
      ]
     },
     "execution_count": 30,
     "metadata": {},
     "output_type": "execute_result"
    }
   ],
   "source": [
    "my_df.drop(3)  #верент новый DataFrame "
   ]
  },
  {
   "cell_type": "code",
   "execution_count": 31,
   "metadata": {},
   "outputs": [
    {
     "data": {
      "text/html": [
       "<div>\n",
       "<style scoped>\n",
       "    .dataframe tbody tr th:only-of-type {\n",
       "        vertical-align: middle;\n",
       "    }\n",
       "\n",
       "    .dataframe tbody tr th {\n",
       "        vertical-align: top;\n",
       "    }\n",
       "\n",
       "    .dataframe thead th {\n",
       "        text-align: right;\n",
       "    }\n",
       "</style>\n",
       "<table border=\"1\" class=\"dataframe\">\n",
       "  <thead>\n",
       "    <tr style=\"text-align: right;\">\n",
       "      <th></th>\n",
       "      <th>red</th>\n",
       "      <th>orange</th>\n",
       "      <th>yellow</th>\n",
       "      <th>green</th>\n",
       "      <th>blue</th>\n",
       "      <th>indigo</th>\n",
       "      <th>violet</th>\n",
       "    </tr>\n",
       "  </thead>\n",
       "  <tbody>\n",
       "    <tr>\n",
       "      <th>1</th>\n",
       "      <td>-0.135806</td>\n",
       "      <td>0.226589</td>\n",
       "      <td>-0.274963</td>\n",
       "      <td>0.243196</td>\n",
       "      <td>-1.489461</td>\n",
       "      <td>-1.489461</td>\n",
       "      <td>-2.978922</td>\n",
       "    </tr>\n",
       "    <tr>\n",
       "      <th>2</th>\n",
       "      <td>-0.135806</td>\n",
       "      <td>0.226589</td>\n",
       "      <td>-0.274963</td>\n",
       "      <td>0.243196</td>\n",
       "      <td>-1.489461</td>\n",
       "      <td>-1.489461</td>\n",
       "      <td>-2.978922</td>\n",
       "    </tr>\n",
       "    <tr>\n",
       "      <th>3</th>\n",
       "      <td>0.064680</td>\n",
       "      <td>-0.038814</td>\n",
       "      <td>0.412432</td>\n",
       "      <td>2.138313</td>\n",
       "      <td>0.237872</td>\n",
       "      <td>0.237872</td>\n",
       "      <td>0.475744</td>\n",
       "    </tr>\n",
       "    <tr>\n",
       "      <th>4</th>\n",
       "      <td>1.327183</td>\n",
       "      <td>0.844997</td>\n",
       "      <td>-0.450377</td>\n",
       "      <td>0.549965</td>\n",
       "      <td>0.600588</td>\n",
       "      <td>0.600588</td>\n",
       "      <td>1.201175</td>\n",
       "    </tr>\n",
       "  </tbody>\n",
       "</table>\n",
       "</div>"
      ],
      "text/plain": [
       "        red    orange    yellow     green      blue    indigo    violet\n",
       "1 -0.135806  0.226589 -0.274963  0.243196 -1.489461 -1.489461 -2.978922\n",
       "2 -0.135806  0.226589 -0.274963  0.243196 -1.489461 -1.489461 -2.978922\n",
       "3  0.064680 -0.038814  0.412432  2.138313  0.237872  0.237872  0.475744\n",
       "4  1.327183  0.844997 -0.450377  0.549965  0.600588  0.600588  1.201175"
      ]
     },
     "execution_count": 31,
     "metadata": {},
     "output_type": "execute_result"
    }
   ],
   "source": [
    "my_df"
   ]
  },
  {
   "cell_type": "code",
   "execution_count": 33,
   "metadata": {},
   "outputs": [],
   "source": [
    "my_df.drop(3,inplace = True)"
   ]
  },
  {
   "cell_type": "code",
   "execution_count": 34,
   "metadata": {},
   "outputs": [
    {
     "data": {
      "text/html": [
       "<div>\n",
       "<style scoped>\n",
       "    .dataframe tbody tr th:only-of-type {\n",
       "        vertical-align: middle;\n",
       "    }\n",
       "\n",
       "    .dataframe tbody tr th {\n",
       "        vertical-align: top;\n",
       "    }\n",
       "\n",
       "    .dataframe thead th {\n",
       "        text-align: right;\n",
       "    }\n",
       "</style>\n",
       "<table border=\"1\" class=\"dataframe\">\n",
       "  <thead>\n",
       "    <tr style=\"text-align: right;\">\n",
       "      <th></th>\n",
       "      <th>red</th>\n",
       "      <th>orange</th>\n",
       "      <th>yellow</th>\n",
       "      <th>green</th>\n",
       "      <th>blue</th>\n",
       "      <th>indigo</th>\n",
       "      <th>violet</th>\n",
       "    </tr>\n",
       "  </thead>\n",
       "  <tbody>\n",
       "    <tr>\n",
       "      <th>1</th>\n",
       "      <td>-0.135806</td>\n",
       "      <td>0.226589</td>\n",
       "      <td>-0.274963</td>\n",
       "      <td>0.243196</td>\n",
       "      <td>-1.489461</td>\n",
       "      <td>-1.489461</td>\n",
       "      <td>-2.978922</td>\n",
       "    </tr>\n",
       "    <tr>\n",
       "      <th>2</th>\n",
       "      <td>-0.135806</td>\n",
       "      <td>0.226589</td>\n",
       "      <td>-0.274963</td>\n",
       "      <td>0.243196</td>\n",
       "      <td>-1.489461</td>\n",
       "      <td>-1.489461</td>\n",
       "      <td>-2.978922</td>\n",
       "    </tr>\n",
       "    <tr>\n",
       "      <th>4</th>\n",
       "      <td>1.327183</td>\n",
       "      <td>0.844997</td>\n",
       "      <td>-0.450377</td>\n",
       "      <td>0.549965</td>\n",
       "      <td>0.600588</td>\n",
       "      <td>0.600588</td>\n",
       "      <td>1.201175</td>\n",
       "    </tr>\n",
       "  </tbody>\n",
       "</table>\n",
       "</div>"
      ],
      "text/plain": [
       "        red    orange    yellow     green      blue    indigo    violet\n",
       "1 -0.135806  0.226589 -0.274963  0.243196 -1.489461 -1.489461 -2.978922\n",
       "2 -0.135806  0.226589 -0.274963  0.243196 -1.489461 -1.489461 -2.978922\n",
       "4  1.327183  0.844997 -0.450377  0.549965  0.600588  0.600588  1.201175"
      ]
     },
     "execution_count": 34,
     "metadata": {},
     "output_type": "execute_result"
    }
   ],
   "source": [
    "my_df"
   ]
  },
  {
   "cell_type": "code",
   "execution_count": 35,
   "metadata": {},
   "outputs": [
    {
     "data": {
      "text/html": [
       "<div>\n",
       "<style scoped>\n",
       "    .dataframe tbody tr th:only-of-type {\n",
       "        vertical-align: middle;\n",
       "    }\n",
       "\n",
       "    .dataframe tbody tr th {\n",
       "        vertical-align: top;\n",
       "    }\n",
       "\n",
       "    .dataframe thead th {\n",
       "        text-align: right;\n",
       "    }\n",
       "</style>\n",
       "<table border=\"1\" class=\"dataframe\">\n",
       "  <thead>\n",
       "    <tr style=\"text-align: right;\">\n",
       "      <th></th>\n",
       "      <th>red</th>\n",
       "      <th>orange</th>\n",
       "      <th>yellow</th>\n",
       "      <th>green</th>\n",
       "      <th>blue</th>\n",
       "      <th>violet</th>\n",
       "    </tr>\n",
       "  </thead>\n",
       "  <tbody>\n",
       "    <tr>\n",
       "      <th>1</th>\n",
       "      <td>-0.135806</td>\n",
       "      <td>0.226589</td>\n",
       "      <td>-0.274963</td>\n",
       "      <td>0.243196</td>\n",
       "      <td>-1.489461</td>\n",
       "      <td>-2.978922</td>\n",
       "    </tr>\n",
       "    <tr>\n",
       "      <th>2</th>\n",
       "      <td>-0.135806</td>\n",
       "      <td>0.226589</td>\n",
       "      <td>-0.274963</td>\n",
       "      <td>0.243196</td>\n",
       "      <td>-1.489461</td>\n",
       "      <td>-2.978922</td>\n",
       "    </tr>\n",
       "    <tr>\n",
       "      <th>4</th>\n",
       "      <td>1.327183</td>\n",
       "      <td>0.844997</td>\n",
       "      <td>-0.450377</td>\n",
       "      <td>0.549965</td>\n",
       "      <td>0.600588</td>\n",
       "      <td>1.201175</td>\n",
       "    </tr>\n",
       "  </tbody>\n",
       "</table>\n",
       "</div>"
      ],
      "text/plain": [
       "        red    orange    yellow     green      blue    violet\n",
       "1 -0.135806  0.226589 -0.274963  0.243196 -1.489461 -2.978922\n",
       "2 -0.135806  0.226589 -0.274963  0.243196 -1.489461 -2.978922\n",
       "4  1.327183  0.844997 -0.450377  0.549965  0.600588  1.201175"
      ]
     },
     "execution_count": 35,
     "metadata": {},
     "output_type": "execute_result"
    }
   ],
   "source": [
    "my_df.drop('indigo',axis=1) #вернуть DataFrame без столбца"
   ]
  },
  {
   "cell_type": "code",
   "execution_count": 37,
   "metadata": {},
   "outputs": [],
   "source": [
    "my_df.drop('indigo',axis=1,inplace=True) #удалить из столбца"
   ]
  },
  {
   "cell_type": "code",
   "execution_count": 38,
   "metadata": {},
   "outputs": [
    {
     "data": {
      "text/html": [
       "<div>\n",
       "<style scoped>\n",
       "    .dataframe tbody tr th:only-of-type {\n",
       "        vertical-align: middle;\n",
       "    }\n",
       "\n",
       "    .dataframe tbody tr th {\n",
       "        vertical-align: top;\n",
       "    }\n",
       "\n",
       "    .dataframe thead th {\n",
       "        text-align: right;\n",
       "    }\n",
       "</style>\n",
       "<table border=\"1\" class=\"dataframe\">\n",
       "  <thead>\n",
       "    <tr style=\"text-align: right;\">\n",
       "      <th></th>\n",
       "      <th>red</th>\n",
       "      <th>orange</th>\n",
       "      <th>yellow</th>\n",
       "      <th>green</th>\n",
       "      <th>blue</th>\n",
       "      <th>violet</th>\n",
       "    </tr>\n",
       "  </thead>\n",
       "  <tbody>\n",
       "    <tr>\n",
       "      <th>1</th>\n",
       "      <td>-0.135806</td>\n",
       "      <td>0.226589</td>\n",
       "      <td>-0.274963</td>\n",
       "      <td>0.243196</td>\n",
       "      <td>-1.489461</td>\n",
       "      <td>-2.978922</td>\n",
       "    </tr>\n",
       "    <tr>\n",
       "      <th>2</th>\n",
       "      <td>-0.135806</td>\n",
       "      <td>0.226589</td>\n",
       "      <td>-0.274963</td>\n",
       "      <td>0.243196</td>\n",
       "      <td>-1.489461</td>\n",
       "      <td>-2.978922</td>\n",
       "    </tr>\n",
       "    <tr>\n",
       "      <th>4</th>\n",
       "      <td>1.327183</td>\n",
       "      <td>0.844997</td>\n",
       "      <td>-0.450377</td>\n",
       "      <td>0.549965</td>\n",
       "      <td>0.600588</td>\n",
       "      <td>1.201175</td>\n",
       "    </tr>\n",
       "  </tbody>\n",
       "</table>\n",
       "</div>"
      ],
      "text/plain": [
       "        red    orange    yellow     green      blue    violet\n",
       "1 -0.135806  0.226589 -0.274963  0.243196 -1.489461 -2.978922\n",
       "2 -0.135806  0.226589 -0.274963  0.243196 -1.489461 -2.978922\n",
       "4  1.327183  0.844997 -0.450377  0.549965  0.600588  1.201175"
      ]
     },
     "execution_count": 38,
     "metadata": {},
     "output_type": "execute_result"
    }
   ],
   "source": [
    "my_df"
   ]
  },
  {
   "cell_type": "code",
   "execution_count": 39,
   "metadata": {},
   "outputs": [
    {
     "data": {
      "text/plain": [
       "(3, 6)"
      ]
     },
     "execution_count": 39,
     "metadata": {},
     "output_type": "execute_result"
    }
   ],
   "source": [
    "my_df.shape #tuple для двумерной матрицы"
   ]
  },
  {
   "cell_type": "code",
   "execution_count": null,
   "metadata": {},
   "outputs": [],
   "source": []
  }
 ],
 "metadata": {
  "kernelspec": {
   "display_name": "Python 3",
   "language": "python",
   "name": "python3"
  },
  "language_info": {
   "codemirror_mode": {
    "name": "ipython",
    "version": 3
   },
   "file_extension": ".py",
   "mimetype": "text/x-python",
   "name": "python",
   "nbconvert_exporter": "python",
   "pygments_lexer": "ipython3",
   "version": "3.8.5"
  }
 },
 "nbformat": 4,
 "nbformat_minor": 4
}
